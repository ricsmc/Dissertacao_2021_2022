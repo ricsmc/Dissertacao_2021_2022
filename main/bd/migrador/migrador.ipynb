{
 "cells": [
  {
   "cell_type": "code",
   "execution_count": 60,
   "metadata": {},
   "outputs": [],
   "source": [
    "import rdflib\n",
    "from rdflib import Graph, Literal, RDF, URIRef, BNode\n",
    "import json\n",
    "from rdflib.namespace import CSVW, DC, DCAT, DCTERMS, DOAP, FOAF, ODRL2, ORG, OWL, \\\n",
    "                           PROF, PROV, RDF, RDFS, SDO, SH, SKOS, SOSA, SSN, TIME, \\\n",
    "                           VOID, XMLNS, XSD"
   ]
  },
  {
   "cell_type": "code",
   "execution_count": 1,
   "metadata": {},
   "outputs": [
    {
     "name": "stdout",
     "output_type": "stream",
     "text": [
      "Em que formato deseja o output? (ttl - 1 , json-triples - 2 , json - 3)\n",
      "1\n",
      "1\n"
     ]
    }
   ],
   "source": [
    "print(\"Em que formato deseja o output? (ttl - 1 , json-triples - 2 , json - 3)\")\n",
    "str = input()\n",
    "print(str)"
   ]
  },
  {
   "cell_type": "code",
   "execution_count": 61,
   "metadata": {},
   "outputs": [],
   "source": [
    "g = Graph()\n",
    "g.parse(\"../clave.ttl\")\n",
    "\n",
    "f = open(\"../clav-triples.json\")\n",
    "data = json.load(f)\n",
    "\n",
    "final = []\n"
   ]
  },
  {
   "cell_type": "code",
   "execution_count": 62,
   "metadata": {},
   "outputs": [],
   "source": [
    "for element in data[\"triples\"]:\n",
    "    if len(element[\"object\"][\"value\"].split('#')) > 1 :\n",
    "        if element[\"object\"][\"value\"].split('#')[1] == \"NamedIndividual\":\n",
    "            if element[\"subject\"][\"value\"].split('#')[1].split('_')[0] != \"vc\":\n",
    "                final.append(element[\"subject\"][\"value\"])\n"
   ]
  },
  {
   "cell_type": "code",
   "execution_count": 63,
   "metadata": {},
   "outputs": [],
   "source": [
    "for element in data[\"triples\"]:\n",
    "    if element[\"subject\"][\"value\"] in final:\n",
    "        subject =  element[\"subject\"][\"value\"].replace('jcr.di.uminho.pt/m51-clav','di.uminho.pt/clav')\n",
    "        predicate =  element[\"predicate\"][\"value\"].replace('jcr.di.uminho.pt/m51-clav','di.uminho.pt/clav')\n",
    "        if element[\"object\"][\"type\"] == 'literal':\n",
    "            g.add((\n",
    "                rdflib.URIRef(subject),\n",
    "                rdflib.URIRef(predicate),\n",
    "                Literal(element[\"object\"][\"value\"])\n",
    "              ))\n",
    "        else :\n",
    "            object = element[\"object\"][\"value\"].replace('jcr.di.uminho.pt/m51-clav','di.uminho.pt/clav') \n",
    "            g.add((\n",
    "                rdflib.URIRef(subject),\n",
    "                rdflib.URIRef(predicate),\n",
    "                rdflib.URIRef(object)\n",
    "              ))\n",
    "        "
   ]
  },
  {
   "cell_type": "code",
   "execution_count": 64,
   "metadata": {},
   "outputs": [
    {
     "data": {
      "text/plain": [
       "<Graph identifier=Nfe1bb31d1bee49dd86c9eb0b2d9939a5 (<class 'rdflib.graph.Graph'>)>"
      ]
     },
     "execution_count": 64,
     "metadata": {},
     "output_type": "execute_result"
    }
   ],
   "source": [
    "pr = g.serialize(format=\"turtle\")\n",
    "g.serialize(destination='output.ttl',format=\"turtle\")"
   ]
  }
 ],
 "metadata": {
  "interpreter": {
   "hash": "007cc5c979546653ec06e30d392272b943e74da107330b4de8bf36a57d4882be"
  },
  "kernelspec": {
   "display_name": "Python 3",
   "language": "python",
   "name": "python3"
  },
  "language_info": {
   "codemirror_mode": {
    "name": "ipython",
    "version": 3
   },
   "file_extension": ".py",
   "mimetype": "text/x-python",
   "name": "python",
   "nbconvert_exporter": "python",
   "pygments_lexer": "ipython3",
   "version": "3.8.3"
  }
 },
 "nbformat": 4,
 "nbformat_minor": 2
}
